{
 "cells": [
  {
   "cell_type": "markdown",
   "metadata": {},
   "source": [
    "# 0. Import libraries and data"
   ]
  },
  {
   "cell_type": "code",
   "execution_count": 39,
   "metadata": {},
   "outputs": [],
   "source": [
    "import pandas as pd\n",
    "import numpy as np\n",
    "import pycaret\n",
    "import seaborn as sns\n",
    "import matplotlib.pyplot as plt\n",
    "import re\n",
    "import requests\n",
    "from bs4 import BeautifulSoup\n",
    "\n",
    "%matplotlib inline\n",
    "pd.set_option('display.max_rows', None)\n",
    "pd.set_option('display.max_columns', None)\n",
    "pd.set_option('display.max_colwidth', None)\n"
   ]
  },
  {
   "cell_type": "code",
   "execution_count": 40,
   "metadata": {},
   "outputs": [],
   "source": [
    "ufc_df = pd.read_csv(\"ufc_combined.csv\", index_col=0)"
   ]
  },
  {
   "cell_type": "code",
   "execution_count": 41,
   "metadata": {},
   "outputs": [
    {
     "data": {
      "text/html": [
       "<div>\n",
       "<style scoped>\n",
       "    .dataframe tbody tr th:only-of-type {\n",
       "        vertical-align: middle;\n",
       "    }\n",
       "\n",
       "    .dataframe tbody tr th {\n",
       "        vertical-align: top;\n",
       "    }\n",
       "\n",
       "    .dataframe thead th {\n",
       "        text-align: right;\n",
       "    }\n",
       "</style>\n",
       "<table border=\"1\" class=\"dataframe\">\n",
       "  <thead>\n",
       "    <tr style=\"text-align: right;\">\n",
       "      <th></th>\n",
       "      <th>fighter1</th>\n",
       "      <th>fighter2</th>\n",
       "      <th>winner</th>\n",
       "      <th>weight_class</th>\n",
       "      <th>title_fight</th>\n",
       "      <th>method</th>\n",
       "      <th>end_round</th>\n",
       "      <th>fight_year</th>\n",
       "      <th>win_fighter1</th>\n",
       "      <th>lose_fighter1</th>\n",
       "      <th>draw_fighter1</th>\n",
       "      <th>nc_fighter1</th>\n",
       "      <th>height_fighter1</th>\n",
       "      <th>reach_fighter1</th>\n",
       "      <th>stance_fighter1</th>\n",
       "      <th>SLpM_fighter1</th>\n",
       "      <th>Str_Acc_fighter1</th>\n",
       "      <th>SApM_fighter1</th>\n",
       "      <th>Str_Def_fighter1</th>\n",
       "      <th>TD_Avg_fighter1</th>\n",
       "      <th>TD_Acc_fighter1</th>\n",
       "      <th>TD_Def_fighter1</th>\n",
       "      <th>Sub_Avg_fighter1</th>\n",
       "      <th>win%_fighter1</th>\n",
       "      <th>born_year_fighter1</th>\n",
       "      <th>win_fighter2</th>\n",
       "      <th>lose_fighter2</th>\n",
       "      <th>draw_fighter2</th>\n",
       "      <th>nc_fighter2</th>\n",
       "      <th>height_fighter2</th>\n",
       "      <th>reach_fighter2</th>\n",
       "      <th>stance_fighter2</th>\n",
       "      <th>SLpM_fighter2</th>\n",
       "      <th>Str_Acc_fighter2</th>\n",
       "      <th>SApM_fighter2</th>\n",
       "      <th>Str_Def_fighter2</th>\n",
       "      <th>TD_Avg_fighter2</th>\n",
       "      <th>TD_Acc_fighter2</th>\n",
       "      <th>TD_Def_fighter2</th>\n",
       "      <th>Sub_Avg_fighter2</th>\n",
       "      <th>win%_fighter2</th>\n",
       "      <th>born_year_fighter2</th>\n",
       "    </tr>\n",
       "  </thead>\n",
       "  <tbody>\n",
       "    <tr>\n",
       "      <th>0</th>\n",
       "      <td>Santiago Ponzinibbio</td>\n",
       "      <td>Neil Magny</td>\n",
       "      <td>1</td>\n",
       "      <td>Welterweight</td>\n",
       "      <td>f</td>\n",
       "      <td>KO/TKO</td>\n",
       "      <td>4</td>\n",
       "      <td>2018</td>\n",
       "      <td>28</td>\n",
       "      <td>3</td>\n",
       "      <td>0</td>\n",
       "      <td>0</td>\n",
       "      <td>6' 0\"</td>\n",
       "      <td>73\"</td>\n",
       "      <td>Orthodox</td>\n",
       "      <td>4.27</td>\n",
       "      <td>39.0</td>\n",
       "      <td>4.02</td>\n",
       "      <td>64.0</td>\n",
       "      <td>0.54</td>\n",
       "      <td>44.0</td>\n",
       "      <td>60.0</td>\n",
       "      <td>0.0</td>\n",
       "      <td>90.322580</td>\n",
       "      <td>1986</td>\n",
       "      <td>21</td>\n",
       "      <td>8</td>\n",
       "      <td>0</td>\n",
       "      <td>0</td>\n",
       "      <td>6' 3\"</td>\n",
       "      <td>80\"</td>\n",
       "      <td>Orthodox</td>\n",
       "      <td>3.86</td>\n",
       "      <td>46.0</td>\n",
       "      <td>2.22</td>\n",
       "      <td>56.0</td>\n",
       "      <td>2.62</td>\n",
       "      <td>46.0</td>\n",
       "      <td>60.0</td>\n",
       "      <td>0.3</td>\n",
       "      <td>72.413795</td>\n",
       "      <td>1987</td>\n",
       "    </tr>\n",
       "    <tr>\n",
       "      <th>1</th>\n",
       "      <td>Ricardo Lamas</td>\n",
       "      <td>Darren Elkins</td>\n",
       "      <td>1</td>\n",
       "      <td>Featherweight</td>\n",
       "      <td>f</td>\n",
       "      <td>KO/TKO</td>\n",
       "      <td>3</td>\n",
       "      <td>2018</td>\n",
       "      <td>19</td>\n",
       "      <td>7</td>\n",
       "      <td>0</td>\n",
       "      <td>0</td>\n",
       "      <td>5' 8\"</td>\n",
       "      <td>71\"</td>\n",
       "      <td>Orthodox</td>\n",
       "      <td>2.87</td>\n",
       "      <td>45.0</td>\n",
       "      <td>2.61</td>\n",
       "      <td>59.0</td>\n",
       "      <td>1.66</td>\n",
       "      <td>32.0</td>\n",
       "      <td>47.0</td>\n",
       "      <td>1.0</td>\n",
       "      <td>73.076920</td>\n",
       "      <td>1982</td>\n",
       "      <td>25</td>\n",
       "      <td>7</td>\n",
       "      <td>0</td>\n",
       "      <td>0</td>\n",
       "      <td>5' 10\"</td>\n",
       "      <td>71\"</td>\n",
       "      <td>Orthodox</td>\n",
       "      <td>3.36</td>\n",
       "      <td>37.0</td>\n",
       "      <td>2.83</td>\n",
       "      <td>53.0</td>\n",
       "      <td>2.68</td>\n",
       "      <td>35.0</td>\n",
       "      <td>57.0</td>\n",
       "      <td>1.3</td>\n",
       "      <td>78.125000</td>\n",
       "      <td>1984</td>\n",
       "    </tr>\n",
       "    <tr>\n",
       "      <th>2</th>\n",
       "      <td>Johnny Walker</td>\n",
       "      <td>Khalil Rountree Jr.</td>\n",
       "      <td>1</td>\n",
       "      <td>Light Heavyweight</td>\n",
       "      <td>f</td>\n",
       "      <td>KO/TKO</td>\n",
       "      <td>1</td>\n",
       "      <td>2018</td>\n",
       "      <td>15</td>\n",
       "      <td>3</td>\n",
       "      <td>0</td>\n",
       "      <td>0</td>\n",
       "      <td>6' 5\"</td>\n",
       "      <td>82\"</td>\n",
       "      <td>Orthodox</td>\n",
       "      <td>5.37</td>\n",
       "      <td>70.0</td>\n",
       "      <td>3.36</td>\n",
       "      <td>25.0</td>\n",
       "      <td>0.89</td>\n",
       "      <td>100.0</td>\n",
       "      <td>100.0</td>\n",
       "      <td>2.6</td>\n",
       "      <td>83.333336</td>\n",
       "      <td>1992</td>\n",
       "      <td>8</td>\n",
       "      <td>2</td>\n",
       "      <td>0</td>\n",
       "      <td>2</td>\n",
       "      <td>6' 1\"</td>\n",
       "      <td>76\"</td>\n",
       "      <td>Southpaw</td>\n",
       "      <td>2.30</td>\n",
       "      <td>34.0</td>\n",
       "      <td>3.29</td>\n",
       "      <td>38.0</td>\n",
       "      <td>0.00</td>\n",
       "      <td>0.0</td>\n",
       "      <td>50.0</td>\n",
       "      <td>0.3</td>\n",
       "      <td>66.666664</td>\n",
       "      <td>1990</td>\n",
       "    </tr>\n",
       "    <tr>\n",
       "      <th>3</th>\n",
       "      <td>Cezar Ferreira</td>\n",
       "      <td>Ian Heinisch</td>\n",
       "      <td>0</td>\n",
       "      <td>Middleweight</td>\n",
       "      <td>f</td>\n",
       "      <td>DEC</td>\n",
       "      <td>3</td>\n",
       "      <td>2018</td>\n",
       "      <td>14</td>\n",
       "      <td>7</td>\n",
       "      <td>0</td>\n",
       "      <td>0</td>\n",
       "      <td>6' 1\"</td>\n",
       "      <td>78\"</td>\n",
       "      <td>Southpaw</td>\n",
       "      <td>1.83</td>\n",
       "      <td>42.0</td>\n",
       "      <td>2.14</td>\n",
       "      <td>55.0</td>\n",
       "      <td>2.97</td>\n",
       "      <td>59.0</td>\n",
       "      <td>90.0</td>\n",
       "      <td>0.5</td>\n",
       "      <td>66.666664</td>\n",
       "      <td>1985</td>\n",
       "      <td>12</td>\n",
       "      <td>1</td>\n",
       "      <td>0</td>\n",
       "      <td>0</td>\n",
       "      <td>5' 11\"</td>\n",
       "      <td>NaN</td>\n",
       "      <td>Orthodox</td>\n",
       "      <td>3.49</td>\n",
       "      <td>58.0</td>\n",
       "      <td>1.67</td>\n",
       "      <td>52.0</td>\n",
       "      <td>0.81</td>\n",
       "      <td>14.0</td>\n",
       "      <td>50.0</td>\n",
       "      <td>1.6</td>\n",
       "      <td>92.307690</td>\n",
       "      <td>1988</td>\n",
       "    </tr>\n",
       "    <tr>\n",
       "      <th>4</th>\n",
       "      <td>Marlon Vera</td>\n",
       "      <td>Guido Cannetti</td>\n",
       "      <td>1</td>\n",
       "      <td>Bantamweight</td>\n",
       "      <td>f</td>\n",
       "      <td>SUB</td>\n",
       "      <td>2</td>\n",
       "      <td>2018</td>\n",
       "      <td>12</td>\n",
       "      <td>5</td>\n",
       "      <td>1</td>\n",
       "      <td>0</td>\n",
       "      <td>5' 8\"</td>\n",
       "      <td>70\"</td>\n",
       "      <td>Switch</td>\n",
       "      <td>3.23</td>\n",
       "      <td>44.0</td>\n",
       "      <td>3.93</td>\n",
       "      <td>52.0</td>\n",
       "      <td>0.78</td>\n",
       "      <td>37.0</td>\n",
       "      <td>68.0</td>\n",
       "      <td>1.3</td>\n",
       "      <td>66.666664</td>\n",
       "      <td>1992</td>\n",
       "      <td>8</td>\n",
       "      <td>5</td>\n",
       "      <td>0</td>\n",
       "      <td>0</td>\n",
       "      <td>5' 6\"</td>\n",
       "      <td>68\"</td>\n",
       "      <td>Southpaw</td>\n",
       "      <td>2.80</td>\n",
       "      <td>52.0</td>\n",
       "      <td>1.95</td>\n",
       "      <td>51.0</td>\n",
       "      <td>2.80</td>\n",
       "      <td>50.0</td>\n",
       "      <td>75.0</td>\n",
       "      <td>0.3</td>\n",
       "      <td>61.538460</td>\n",
       "      <td>1979</td>\n",
       "    </tr>\n",
       "  </tbody>\n",
       "</table>\n",
       "</div>"
      ],
      "text/plain": [
       "               fighter1             fighter2  winner       weight_class  \\\n",
       "0  Santiago Ponzinibbio           Neil Magny       1       Welterweight   \n",
       "1         Ricardo Lamas        Darren Elkins       1      Featherweight   \n",
       "2         Johnny Walker  Khalil Rountree Jr.       1  Light Heavyweight   \n",
       "3        Cezar Ferreira         Ian Heinisch       0       Middleweight   \n",
       "4           Marlon Vera       Guido Cannetti       1       Bantamweight   \n",
       "\n",
       "  title_fight  method  end_round  fight_year  win_fighter1  lose_fighter1  \\\n",
       "0           f  KO/TKO          4        2018            28              3   \n",
       "1           f  KO/TKO          3        2018            19              7   \n",
       "2           f  KO/TKO          1        2018            15              3   \n",
       "3           f     DEC          3        2018            14              7   \n",
       "4           f     SUB          2        2018            12              5   \n",
       "\n",
       "   draw_fighter1  nc_fighter1 height_fighter1 reach_fighter1 stance_fighter1  \\\n",
       "0              0            0           6' 0\"            73\"        Orthodox   \n",
       "1              0            0           5' 8\"            71\"        Orthodox   \n",
       "2              0            0           6' 5\"            82\"        Orthodox   \n",
       "3              0            0           6' 1\"            78\"        Southpaw   \n",
       "4              1            0           5' 8\"            70\"          Switch   \n",
       "\n",
       "   SLpM_fighter1  Str_Acc_fighter1  SApM_fighter1  Str_Def_fighter1  \\\n",
       "0           4.27              39.0           4.02              64.0   \n",
       "1           2.87              45.0           2.61              59.0   \n",
       "2           5.37              70.0           3.36              25.0   \n",
       "3           1.83              42.0           2.14              55.0   \n",
       "4           3.23              44.0           3.93              52.0   \n",
       "\n",
       "   TD_Avg_fighter1  TD_Acc_fighter1  TD_Def_fighter1  Sub_Avg_fighter1  \\\n",
       "0             0.54             44.0             60.0               0.0   \n",
       "1             1.66             32.0             47.0               1.0   \n",
       "2             0.89            100.0            100.0               2.6   \n",
       "3             2.97             59.0             90.0               0.5   \n",
       "4             0.78             37.0             68.0               1.3   \n",
       "\n",
       "   win%_fighter1 born_year_fighter1  win_fighter2  lose_fighter2  \\\n",
       "0      90.322580               1986            21              8   \n",
       "1      73.076920               1982            25              7   \n",
       "2      83.333336               1992             8              2   \n",
       "3      66.666664               1985            12              1   \n",
       "4      66.666664               1992             8              5   \n",
       "\n",
       "   draw_fighter2  nc_fighter2 height_fighter2 reach_fighter2 stance_fighter2  \\\n",
       "0              0            0           6' 3\"            80\"        Orthodox   \n",
       "1              0            0          5' 10\"            71\"        Orthodox   \n",
       "2              0            2           6' 1\"            76\"        Southpaw   \n",
       "3              0            0          5' 11\"            NaN        Orthodox   \n",
       "4              0            0           5' 6\"            68\"        Southpaw   \n",
       "\n",
       "   SLpM_fighter2  Str_Acc_fighter2  SApM_fighter2  Str_Def_fighter2  \\\n",
       "0           3.86              46.0           2.22              56.0   \n",
       "1           3.36              37.0           2.83              53.0   \n",
       "2           2.30              34.0           3.29              38.0   \n",
       "3           3.49              58.0           1.67              52.0   \n",
       "4           2.80              52.0           1.95              51.0   \n",
       "\n",
       "   TD_Avg_fighter2  TD_Acc_fighter2  TD_Def_fighter2  Sub_Avg_fighter2  \\\n",
       "0             2.62             46.0             60.0               0.3   \n",
       "1             2.68             35.0             57.0               1.3   \n",
       "2             0.00              0.0             50.0               0.3   \n",
       "3             0.81             14.0             50.0               1.6   \n",
       "4             2.80             50.0             75.0               0.3   \n",
       "\n",
       "   win%_fighter2 born_year_fighter2  \n",
       "0      72.413795               1987  \n",
       "1      78.125000               1984  \n",
       "2      66.666664               1990  \n",
       "3      92.307690               1988  \n",
       "4      61.538460               1979  "
      ]
     },
     "execution_count": 41,
     "metadata": {},
     "output_type": "execute_result"
    }
   ],
   "source": [
    "ufc_df.head()"
   ]
  },
  {
   "cell_type": "markdown",
   "metadata": {},
   "source": [
    "___"
   ]
  },
  {
   "cell_type": "markdown",
   "metadata": {},
   "source": [
    "# 1. Data Cleaning / EDA"
   ]
  },
  {
   "cell_type": "markdown",
   "metadata": {},
   "source": [
    "Percentage of fights ending in a particular `method`\n",
    "- majority of fights end in DEC (decision by 3 judges)\n",
    "    - how judges score fights are based on 4 main aspects:\n",
    "        - Effective striking\n",
    "        - Effective grappling\n",
    "        - Effective aggressiveness \n",
    "        - Control of fighting area\n",
    "\n",
    "    \n",
    "    \n",
    "- secondmost fight-ending `method` is KO/TKO ==> this is mostly by strikes that render the opponent unconscious (KO) or unable to fight back (TKO)\n",
    "- as shown by the above 2 points, the top 2 `methods` (DEC and KO/TKO) are highly dependent on the striking aspects of MMA.\n",
    "- as such this is our motivation to analyse strikes using Computer Vision."
   ]
  },
  {
   "cell_type": "code",
   "execution_count": 42,
   "metadata": {
    "scrolled": true
   },
   "outputs": [
    {
     "data": {
      "image/png": "[encoded data removed]",
      "text/plain": [
       "<Figure size 864x432 with 1 Axes>"
      ]
     },
     "metadata": {},
     "output_type": "display_data"
    }
   ],
   "source": [
    "temp = ufc_df['method'].value_counts()\n",
    "colors = sns.color_palette('pastel')[0:5]\n",
    "plt.figure(figsize=(12,6))\n",
    "plt.pie(temp, labels=temp.index, colors = colors, autopct='%.0f%%',textprops={'fontsize': 14});"
   ]
  },
  {
   "cell_type": "code",
   "execution_count": 43,
   "metadata": {},
   "outputs": [],
   "source": [
    "# analyze methods won by weight class\n",
    "weightclass = ufc_df.groupby(['weight_class','method']).count()\n",
    "weightclass = weightclass.iloc[:,:1].reset_index()\n",
    "weightclass.columns = ['weight_class', 'method', 'total_method']\n",
    "\n",
    "# adding total fights column\n",
    "sum_fights = weightclass.groupby('weight_class').sum().reset_index()\n",
    "sum_fights.columns = ['weight_class','total_fights']\n",
    "weightclass = pd.merge(weightclass,sum_fights, on='weight_class')"
   ]
  },
  {
   "cell_type": "code",
   "execution_count": 44,
   "metadata": {
    "scrolled": false
   },
   "outputs": [
    {
     "data": {
      "image/png": "[encoded data removed]",
      "text/plain": [
       "<Figure size 864x432 with 1 Axes>"
      ]
     },
     "metadata": {
      "needs_background": "light"
     },
     "output_type": "display_data"
    }
   ],
   "source": [
    "# drop weight_class with less than 20 fights\n",
    "cols = weightclass[weightclass['total_fights']<20].index\n",
    "weightclass = weightclass.drop(cols)\n",
    "\n",
    "# create a list in ascending order of weight\n",
    "weight_list = [\"Women's Strawweight\",\"Women's Flyweight\",\"Women's Bantamweight\",'Flyweight','Bantamweight', 'Featherweight', 'Lightweight', 'Welterweight', 'Middleweight',\n",
    "               'Light Heavyweight', \"Heavyweight\",'Catch Weight']\n",
    "\n",
    "# creating column for percentage of finish ending in a particular method\n",
    "weightclass['pct_method'] = np.round(weightclass['total_method'] / weightclass['total_fights'], 3)\n",
    "\n",
    "# plot barchart\n",
    "plt.figure(figsize=(12,6))\n",
    "sns.barplot(weightclass['weight_class'], weightclass['pct_method'], hue=weightclass['method'],palette='muted', order=weight_list)\n",
    "plt.xticks(rotation = 50);\n",
    "plt.title(\"Percentage of fights ending in a particular method, for each weightclass\", fontsize=16);"
   ]
  },
  {
   "cell_type": "markdown",
   "metadata": {},
   "source": [
    "Interestingly, we can see that as the weight class increases, \n",
    "- less fights finish by Decisions\n",
    "- more fights finish by KO/TKO\n",
    "- no direct pattern for Submissions\n",
    "\n",
    "This is most likely justified by the fact that heavier fighters have higher knockout power"
   ]
  },
  {
   "cell_type": "markdown",
   "metadata": {},
   "source": [
    "### Analyzing Strikes Landed per Minute (SLpM)"
   ]
  },
  {
   "cell_type": "code",
   "execution_count": 45,
   "metadata": {},
   "outputs": [],
   "source": [
    "# function to analyse SLpM across different methods\n",
    "def SLpM_by_method(method):\n",
    "    \n",
    "    temp1 = ufc_df[(ufc_df['method']== method) & (ufc_df['winner']==1)]\n",
    "    temp1 = temp1[['SLpM_fighter1','SLpM_fighter2']]\n",
    "    temp1.rename(columns={'SLpM_fighter1':'winner_SLpM', 'SLpM_fighter2':'loser_SLpM'}, inplace=True)\n",
    "\n",
    "    temp2 = ufc_df[(ufc_df['method']==method) & (ufc_df['winner']==0)]\n",
    "    temp2 = temp2[['SLpM_fighter1','SLpM_fighter2']]\n",
    "    temp2.rename(columns={'SLpM_fighter2':'winner_SLpM', 'SLpM_fighter1':'loser_SLpM'}, inplace=True)\n",
    "    temp2\n",
    "\n",
    "    temp_total = pd.merge(temp1, temp2, how='outer')\n",
    "    SLpM_diff = len(temp_total[temp_total['winner_SLpM']>temp_total['loser_SLpM']])/len(temp_total)*100\n",
    "    print(f\"Fighters that win a fight by {str(method)} have higher SLpM {SLpM_diff:.2f} % of the time\")\n",
    "    \n",
    "    mean_diff = temp_total['winner_SLpM'].mean() - temp_total['loser_SLpM'].mean()\n",
    "    print(f'On average, winners by {str(method)} has {mean_diff:.2f} more strikes per minute than losers')\n",
    "    \n",
    "    temp_total['pct_diff'] = (temp_total['winner_SLpM'] - temp_total['loser_SLpM']) / (temp_total['winner_SLpM'] + temp_total['loser_SLpM'])*100\n",
    "    sns.boxplot(temp_total['pct_diff']);\n",
    "    pct_diff = temp_total['pct_diff'].mean()\n",
    "    print(f\"On average, fighters that win by {str(method)} have {pct_diff:.2f} % higher SLpM than their opponents\")\n",
    "    plt.title(f'Strikes Landed per Minute for fighters that win by {method}')\n",
    "    plt.show()\n",
    "\n",
    "    \n",
    "    return temp_total"
   ]
  },
  {
   "cell_type": "markdown",
   "metadata": {},
   "source": [
    "### Analyse SLpM for winners in different methods"
   ]
  },
  {
   "cell_type": "code",
   "execution_count": 46,
   "metadata": {},
   "outputs": [
    {
     "name": "stdout",
     "output_type": "stream",
     "text": [
      "Fighters that win a fight by KO/TKO have higher SLpM 67.04 % of the time\n",
      "On average, winners by KO/TKO has 0.63 more strikes per minute than losers\n",
      "On average, fighters that win by KO/TKO have 11.76 % higher SLpM than their opponents\n"
     ]
    },
    {
     "data": {
      "image/png": "[encoded data removed]",
      "text/plain": [
       "<Figure size 432x288 with 1 Axes>"
      ]
     },
     "metadata": {
      "needs_background": "light"
     },
     "output_type": "display_data"
    },
    {
     "name": "stdout",
     "output_type": "stream",
     "text": [
      "\n",
      "\n",
      "Fighters that win a fight by DEC have higher SLpM 61.43 % of the time\n",
      "On average, winners by DEC has 0.38 more strikes per minute than losers\n",
      "On average, fighters that win by DEC have 6.78 % higher SLpM than their opponents\n"
     ]
    },
    {
     "data": {
      "image/png": "[encoded data removed]",
      "text/plain": [
       "<Figure size 432x288 with 1 Axes>"
      ]
     },
     "metadata": {
      "needs_background": "light"
     },
     "output_type": "display_data"
    },
    {
     "name": "stdout",
     "output_type": "stream",
     "text": [
      "\n",
      "\n",
      "Fighters that win a fight by SUB have higher SLpM 54.86 % of the time\n",
      "On average, winners by SUB has 0.13 more strikes per minute than losers\n",
      "On average, fighters that win by SUB have 4.38 % higher SLpM than their opponents\n"
     ]
    },
    {
     "data": {
      "image/png": "[encoded data removed]",
      "text/plain": [
       "<Figure size 432x288 with 1 Axes>"
      ]
     },
     "metadata": {
      "needs_background": "light"
     },
     "output_type": "display_data"
    }
   ],
   "source": [
    "KO = SLpM_by_method('KO/TKO')\n",
    "print('\\n')\n",
    "DEC = SLpM_by_method('DEC')\n",
    "print('\\n')\n",
    "SUB = SLpM_by_method('SUB')"
   ]
  },
  {
   "cell_type": "markdown",
   "metadata": {},
   "source": [
    "### SLpM for all types of methods"
   ]
  },
  {
   "cell_type": "code",
   "execution_count": 47,
   "metadata": {},
   "outputs": [
    {
     "name": "stdout",
     "output_type": "stream",
     "text": [
      "61.81251391672233\n",
      "7.915984459563337\n"
     ]
    },
    {
     "data": {
      "image/png": "[encoded data removed]",
      "text/plain": [
       "<Figure size 432x288 with 1 Axes>"
      ]
     },
     "metadata": {
      "needs_background": "light"
     },
     "output_type": "display_data"
    }
   ],
   "source": [
    "temp1 = ufc_df[ufc_df['winner']==1]\n",
    "temp1 = temp1[['SLpM_fighter1','SLpM_fighter2']]\n",
    "temp1.rename(columns={'SLpM_fighter1':'winner_SLpM', 'SLpM_fighter2':'loser_SLpM'}, inplace=True)\n",
    "\n",
    "temp2 = ufc_df[ufc_df['winner']==0]\n",
    "temp2 = temp2[['SLpM_fighter1','SLpM_fighter2']]\n",
    "temp2.rename(columns={'SLpM_fighter2':'winner_SLpM', 'SLpM_fighter1':'loser_SLpM'}, inplace=True)\n",
    "temp2\n",
    "\n",
    "temp_total = pd.merge(temp1, temp2, how='outer')\n",
    "\n",
    "print(len(temp_total[temp_total['winner_SLpM']>temp_total['loser_SLpM']])/len(temp_total)*100)\n",
    "\n",
    "temp_total['pct_diff'] = (temp_total['winner_SLpM'] - temp_total['loser_SLpM']) / (temp_total['winner_SLpM'] + temp_total['loser_SLpM'])*100\n",
    "sns.boxplot(temp_total['pct_diff']);\n",
    "print(temp_total['pct_diff'].mean())"
   ]
  },
  {
   "cell_type": "markdown",
   "metadata": {},
   "source": [
    "In general, winners of any fight have 8% more SLpM than their opponents"
   ]
  },
  {
   "cell_type": "markdown",
   "metadata": {},
   "source": [
    "### Analyzing how much SLpM differ between winner and fighters for each method"
   ]
  },
  {
   "cell_type": "code",
   "execution_count": 48,
   "metadata": {},
   "outputs": [
    {
     "data": {
      "image/png": "[encoded data removed]",
      "text/plain": [
       "<Figure size 432x288 with 1 Axes>"
      ]
     },
     "metadata": {
      "needs_background": "light"
     },
     "output_type": "display_data"
    }
   ],
   "source": [
    "i = 2\n",
    "SLpM_compare = [KO.mean()[i], DEC.mean()[i], SUB.mean()[i]]\n",
    "SLpM_compare\n",
    "\n",
    "sns.barplot(x=[\"KO/TKO\", \"DEC\", \"SUB\"] , y=np.array(SLpM_compare))\n",
    "plt.title(f'Percentage difference of strikes landed by winner')\n",
    "plt.ylabel(\"% difference in strikes landed\")\n",
    "plt.xlabel('method of winning');"
   ]
  },
  {
   "cell_type": "markdown",
   "metadata": {},
   "source": [
    "It is not surprising that fighters that win by KO/TKO and DEC have higher SLpM than their opponents. What is intersting though is that even for submissions, it seems that SLpM is distinctively higher for winner, which underlines the importance of striking abilities in a fight."
   ]
  },
  {
   "cell_type": "markdown",
   "metadata": {},
   "source": [
    "### Analysing relationship between striking-related stats and method"
   ]
  },
  {
   "cell_type": "code",
   "execution_count": 49,
   "metadata": {},
   "outputs": [
    {
     "data": {
      "text/html": [
       "<div>\n",
       "<style scoped>\n",
       "    .dataframe tbody tr th:only-of-type {\n",
       "        vertical-align: middle;\n",
       "    }\n",
       "\n",
       "    .dataframe tbody tr th {\n",
       "        vertical-align: top;\n",
       "    }\n",
       "\n",
       "    .dataframe thead th {\n",
       "        text-align: right;\n",
       "    }\n",
       "</style>\n",
       "<table border=\"1\" class=\"dataframe\">\n",
       "  <thead>\n",
       "    <tr style=\"text-align: right;\">\n",
       "      <th></th>\n",
       "      <th>SLpM_fighter</th>\n",
       "    </tr>\n",
       "    <tr>\n",
       "      <th>method</th>\n",
       "      <th></th>\n",
       "    </tr>\n",
       "  </thead>\n",
       "  <tbody>\n",
       "    <tr>\n",
       "      <th>DEC</th>\n",
       "      <td>3.03</td>\n",
       "    </tr>\n",
       "    <tr>\n",
       "      <th>DQ</th>\n",
       "      <td>2.90</td>\n",
       "    </tr>\n",
       "    <tr>\n",
       "      <th>KO/TKO</th>\n",
       "      <td>3.03</td>\n",
       "    </tr>\n",
       "    <tr>\n",
       "      <th>SUB</th>\n",
       "      <td>2.74</td>\n",
       "    </tr>\n",
       "  </tbody>\n",
       "</table>\n",
       "</div>"
      ],
      "text/plain": [
       "        SLpM_fighter\n",
       "method              \n",
       "DEC             3.03\n",
       "DQ              2.90\n",
       "KO/TKO          3.03\n",
       "SUB             2.74"
      ]
     },
     "execution_count": 49,
     "metadata": {},
     "output_type": "execute_result"
    },
    {
     "data": {
      "image/png": "[encoded data removed]",
      "text/plain": [
       "<Figure size 432x288 with 1 Axes>"
      ]
     },
     "metadata": {
      "needs_background": "light"
     },
     "output_type": "display_data"
    }
   ],
   "source": [
    "temp1 = ufc_df[['method','SLpM_fighter1']]\n",
    "temp2 = ufc_df[['method','SLpM_fighter2']]\n",
    "temp1.columns = ['method','SLpM_fighter']\n",
    "temp2.columns = ['method','SLpM_fighter']\n",
    "\n",
    "comb_temp = pd.concat((temp1,temp2),axis=0)\n",
    "\n",
    "sns.boxplot(comb_temp['SLpM_fighter'],comb_temp['method']);\n",
    "comb_temp.groupby(by='method').median()"
   ]
  },
  {
   "cell_type": "code",
   "execution_count": 50,
   "metadata": {},
   "outputs": [
    {
     "data": {
      "text/html": [
       "<div>\n",
       "<style scoped>\n",
       "    .dataframe tbody tr th:only-of-type {\n",
       "        vertical-align: middle;\n",
       "    }\n",
       "\n",
       "    .dataframe tbody tr th {\n",
       "        vertical-align: top;\n",
       "    }\n",
       "\n",
       "    .dataframe thead th {\n",
       "        text-align: right;\n",
       "    }\n",
       "</style>\n",
       "<table border=\"1\" class=\"dataframe\">\n",
       "  <thead>\n",
       "    <tr style=\"text-align: right;\">\n",
       "      <th></th>\n",
       "      <th>Str_Acc_fighter</th>\n",
       "    </tr>\n",
       "    <tr>\n",
       "      <th>method</th>\n",
       "      <th></th>\n",
       "    </tr>\n",
       "  </thead>\n",
       "  <tbody>\n",
       "    <tr>\n",
       "      <th>DEC</th>\n",
       "      <td>42.0</td>\n",
       "    </tr>\n",
       "    <tr>\n",
       "      <th>DQ</th>\n",
       "      <td>47.0</td>\n",
       "    </tr>\n",
       "    <tr>\n",
       "      <th>KO/TKO</th>\n",
       "      <td>44.0</td>\n",
       "    </tr>\n",
       "    <tr>\n",
       "      <th>SUB</th>\n",
       "      <td>43.0</td>\n",
       "    </tr>\n",
       "  </tbody>\n",
       "</table>\n",
       "</div>"
      ],
      "text/plain": [
       "        Str_Acc_fighter\n",
       "method                 \n",
       "DEC                42.0\n",
       "DQ                 47.0\n",
       "KO/TKO             44.0\n",
       "SUB                43.0"
      ]
     },
     "execution_count": 50,
     "metadata": {},
     "output_type": "execute_result"
    },
    {
     "data": {
      "image/png": "[encoded data removed]",
      "text/plain": [
       "<Figure size 432x288 with 1 Axes>"
      ]
     },
     "metadata": {
      "needs_background": "light"
     },
     "output_type": "display_data"
    }
   ],
   "source": [
    "temp1 = ufc_df[['method','Str_Acc_fighter1']]\n",
    "temp2 = ufc_df[['method','Str_Acc_fighter2']]\n",
    "temp1.columns = ['method','Str_Acc_fighter']\n",
    "temp2.columns = ['method','Str_Acc_fighter']\n",
    "\n",
    "comb_temp = pd.concat((temp1,temp2),axis=0)\n",
    "\n",
    "sns.boxplot(comb_temp['Str_Acc_fighter'],comb_temp['method']);\n",
    "comb_temp.groupby(by='method').median()"
   ]
  },
  {
   "cell_type": "markdown",
   "metadata": {},
   "source": [
    "- In general, fighters that finish fights by KO/TKO or DEC seem to use more of their striking abilities as proven by the higher median values for SLpM (Strikes Landed per Minute) and Str_Acc (Strike Accuracy) in the tables above.\n",
    "- This is also shown by the higher median and IQ range in the boxplots."
   ]
  },
  {
   "cell_type": "markdown",
   "metadata": {},
   "source": [
    "**explore relationship between reach_diff and win**"
   ]
  },
  {
   "cell_type": "code",
   "execution_count": 51,
   "metadata": {},
   "outputs": [],
   "source": [
    "# data cleaning to convert string to float, so as to compute later on\n",
    "ufc_df['reach_fighter1'] = ufc_df['reach_fighter1'].str.extract(r'(\\d+)')\n",
    "ufc_df['reach_fighter2'] = ufc_df['reach_fighter2'].str.extract(r'(\\d+)')\n",
    "\n",
    "ufc_df = ufc_df.astype({\n",
    "    'reach_fighter1':float,\n",
    "    'reach_fighter2':float\n",
    "})\n",
    "\n",
    "# convert from imperial to metric units\n",
    "ufc_df['reach_fighter1'] = ufc_df['reach_fighter1'] * 2.54\n",
    "ufc_df['reach_fighter2'] = ufc_df['reach_fighter2'] * 2.54\n",
    "ufc_df['reach_diff'] = ufc_df['reach_fighter1'] - ufc_df['reach_fighter2']\n"
   ]
  },
  {
   "cell_type": "code",
   "execution_count": 52,
   "metadata": {},
   "outputs": [
    {
     "data": {
      "image/png": "[encoded data removed]",
      "text/plain": [
       "<Figure size 432x288 with 1 Axes>"
      ]
     },
     "metadata": {
      "needs_background": "light"
     },
     "output_type": "display_data"
    }
   ],
   "source": [
    "sns.boxplot(ufc_df['winner'],ufc_df['reach_diff'])\n",
    "plt.ylim([-10,10]);"
   ]
  },
  {
   "cell_type": "markdown",
   "metadata": {},
   "source": [
    "___"
   ]
  },
  {
   "cell_type": "markdown",
   "metadata": {},
   "source": [
    "# 2. Feature Engineering and Data Cleaning"
   ]
  },
  {
   "cell_type": "markdown",
   "metadata": {},
   "source": [
    "- by default, pycaret imputes null values \n",
    "    - numeric ==> mean\n",
    "    - categorical ==> unknown constant\n",
    "- as such, we only impute `reach_fighter1` and `reach_fighter2` with its median value based on respective weight class, using the below function. "
   ]
  },
  {
   "cell_type": "code",
   "execution_count": 53,
   "metadata": {},
   "outputs": [],
   "source": [
    "# impute null values for reach using median of each weightclass\n",
    "weight_list = [\"Women's Strawweight\",\"Women's Flyweight\",\"Women's Bantamweight\",'Flyweight','Bantamweight', 'Featherweight', 'Lightweight', 'Welterweight', 'Middleweight',\n",
    "               'Light Heavyweight', \"Heavyweight\",'Catch Weight']\n",
    "\n",
    "null_list = ['reach_fighter1', 'reach_fighter2']\n",
    "\n",
    "for i in weight_list:\n",
    "    for j in null_list:\n",
    "        median = ufc_df[ufc_df['weight_class']==i].median()[j]\n",
    "        idx_list = ufc_df[(ufc_df['weight_class']==i) & (ufc_df[j].isnull())][j].index\n",
    "        for idx in idx_list:\n",
    "            ufc_df.loc[idx,j] = median"
   ]
  },
  {
   "cell_type": "markdown",
   "metadata": {},
   "source": [
    "- feature engineer new column age from birth year and fight_year"
   ]
  },
  {
   "cell_type": "code",
   "execution_count": 54,
   "metadata": {},
   "outputs": [],
   "source": [
    "# create new column: age\n",
    "for i in range(len(ufc_df)):\n",
    "    if ufc_df.loc[i,'born_year_fighter1'] == 'unk':\n",
    "        ufc_df.loc[i,'born_year_fighter1']= ufc_df.loc[i,'fight_year']\n",
    "    if ufc_df.loc[i,'born_year_fighter2'] == 'unk':\n",
    "        ufc_df.loc[i,'born_year_fighter2']= ufc_df.loc[i,'fight_year']\n",
    "        \n",
    "ufc_df = ufc_df.astype({\n",
    "    'fight_year':int,\n",
    "    'born_year_fighter1':int,\n",
    "    'born_year_fighter2':int,\n",
    "})\n",
    "\n",
    "ufc_df['age_fighter1'] = ufc_df['fight_year'] - ufc_df['born_year_fighter1'] \n",
    "ufc_df['age_fighter2'] = ufc_df['fight_year'] - ufc_df['born_year_fighter2'] "
   ]
  },
  {
   "cell_type": "markdown",
   "metadata": {},
   "source": [
    "- convert numerical features `height` from imperial to metric units\n",
    "- convert features into apporpriate data types"
   ]
  },
  {
   "cell_type": "code",
   "execution_count": 55,
   "metadata": {
    "scrolled": false
   },
   "outputs": [],
   "source": [
    "# drop 3 null value rows to allow for the following computation \n",
    "ufc_df.dropna(axis=0, how='any', inplace=True, subset=['height_fighter1','height_fighter2'])\n",
    "# converting height into numerical variable\n",
    "ufc_df['height_fighter1'].replace(r'[\\s]+', '', regex=True, inplace=True)\n",
    "ufc_df['height_fighter1'].replace(r'[\\\"]+', '', regex=True, inplace=True)\n",
    "ufc_df['height_fighter1'] = ufc_df['height_fighter1'].str.split(r\"[\\']\")\n",
    "ufc_df['height_fighter1'] = ufc_df['height_fighter1'].map(lambda x: (float(x[0])*30.48 + (float(x[1])*2.54)))\n",
    "\n",
    "ufc_df['height_fighter2'].replace(r'[\\s]+', '', regex=True, inplace=True)\n",
    "ufc_df['height_fighter2'].replace(r'[\\\"]+', '', regex=True, inplace=True)\n",
    "ufc_df['height_fighter2'] = ufc_df['height_fighter2'].str.split(r\"[\\']\")\n",
    "ufc_df['height_fighter2'] = ufc_df['height_fighter2'].map(lambda x: (float(x[0])*30.48 + (float(x[1])*2.54)))\n",
    "\n",
    "ufc_df = ufc_df.astype({\n",
    "    'reach_fighter1':float,\n",
    "    'reach_fighter2':float,\n",
    "    'fight_year':object,\n",
    "    'born_year_fighter1':object,\n",
    "    'born_year_fighter2':object,\n",
    "})\n"
   ]
  },
  {
   "cell_type": "markdown",
   "metadata": {},
   "source": [
    "- further drop redundant features\n",
    "    - drop features that are not known before a fight, since this is a prediction model before a fight\n",
    "    - W-L-D record for each figher is not updated for every fight, as such the data is misleading"
   ]
  },
  {
   "cell_type": "code",
   "execution_count": 56,
   "metadata": {},
   "outputs": [],
   "source": [
    "# drop columns that are not known before a fight\n",
    "ufc_df.drop(columns=['fighter1','fighter2','method', 'end_round'], inplace=True)\n",
    "\n",
    "# drop columns that are not useful\n",
    "ufc_df.drop(columns=['win_fighter1','win_fighter2','lose_fighter1','lose_fighter2',\n",
    "                     'draw_fighter1','draw_fighter2','nc_fighter1', 'nc_fighter2','fight_year',\n",
    "                     'born_year_fighter1','born_year_fighter2'], inplace=True)"
   ]
  },
  {
   "cell_type": "code",
   "execution_count": 57,
   "metadata": {},
   "outputs": [],
   "source": [
    "ufc_df.to_csv('ufc_df.csv', index=False)"
   ]
  },
  {
   "cell_type": "markdown",
   "metadata": {},
   "source": [
    "___"
   ]
  }
 ],
 "metadata": {
  "kernelspec": {
   "display_name": "pycaret-display",
   "language": "python",
   "name": "pycaret"
  },
  "language_info": {
   "codemirror_mode": {
    "name": "ipython",
    "version": 3
   },
   "file_extension": ".py",
   "mimetype": "text/x-python",
   "name": "python",
   "nbconvert_exporter": "python",
   "pygments_lexer": "ipython3",
   "version": "3.6.13"
  }
 },
 "nbformat": 4,
 "nbformat_minor": 2
}
